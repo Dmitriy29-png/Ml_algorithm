{
 "cells": [
  {
   "cell_type": "markdown",
   "id": "6983bedd",
   "metadata": {},
   "source": [
    "## Урок 2. Масштабирование признаков. L1 и L2 регуляризация. Стохастический градиентный спуск. "
   ]
  },
  {
   "cell_type": "markdown",
   "id": "3cd41556",
   "metadata": {},
   "source": [
    "1. Сгенерировать датасет при помощи sklearn.datasets.make_regression и обучить линейную модель при помощи градиентного и стохастического градиентного спуска. Нанести среднеквадратичную ошибку для обоих методов на один график, сделать выводы о разнице скорости сходимости каждого из методов."
   ]
  },
  {
   "cell_type": "code",
   "execution_count": 11,
   "id": "9e04f5ce",
   "metadata": {},
   "outputs": [],
   "source": [
    "import numpy as np\n",
    "import pandas as pd\n",
    "import matplotlib.pyplot as plt\n",
    "from sklearn.datasets import make_regression\n",
    "\n",
    "%matplotlib inline"
   ]
  },
  {
   "cell_type": "code",
   "execution_count": 12,
   "id": "5e8a9adc",
   "metadata": {},
   "outputs": [],
   "source": [
    "X, y, W_default = make_regression(\n",
    "    n_features=10,\n",
    "    bias=3.5,\n",
    "    noise=1.2,\n",
    "    coef=True,\n",
    "    random_state=42\n",
    ")"
   ]
  },
  {
   "cell_type": "code",
   "execution_count": 13,
   "id": "f46b1d5e",
   "metadata": {},
   "outputs": [
    {
     "data": {
      "text/plain": [
       "array([16.74825823, 54.12963353,  5.19712837, 63.64302495, 93.62122462,\n",
       "       70.64757265, 87.09691237, 10.45678403,  3.15861448, 70.90605195])"
      ]
     },
     "execution_count": 13,
     "metadata": {},
     "output_type": "execute_result"
    }
   ],
   "source": [
    "W_default"
   ]
  },
  {
   "cell_type": "code",
   "execution_count": 14,
   "id": "1d825f56",
   "metadata": {},
   "outputs": [],
   "source": [
    "y_pred_default = X @ W_default"
   ]
  },
  {
   "cell_type": "code",
   "execution_count": 15,
   "id": "2a6b55d0",
   "metadata": {},
   "outputs": [],
   "source": [
    "# Посчитаем MSE\n",
    "def calc_mse(y, y_pred):\n",
    "    err = np.mean((y - y_pred) ** 2)\n",
    "    return err"
   ]
  },
  {
   "cell_type": "code",
   "execution_count": 16,
   "id": "878f64eb",
   "metadata": {},
   "outputs": [
    {
     "data": {
      "text/plain": [
       "14.867688515340427"
      ]
     },
     "execution_count": 16,
     "metadata": {},
     "output_type": "execute_result"
    }
   ],
   "source": [
    "mse_default = calc_mse(y, y_pred_default)\n",
    "mse_default"
   ]
  },
  {
   "cell_type": "code",
   "execution_count": 17,
   "id": "b0f62044",
   "metadata": {},
   "outputs": [],
   "source": [
    "def my_grad_desc(X, y, alpha=1e-04, verbose=False, tol=0.0):\n",
    "    n = X.shape[0]\n",
    "    W = np.random.randn(X.shape[1], )  # задаём начальное значение весов\n",
    "    min_err = float('inf')  #начальное значение ошибки модели - бесконечность\n",
    "    n_iter = 0  # отслеживаем количество итераций\n",
    "    stop_chek = True  #будем чекать снижение ошибки\n",
    "    errors = []  # добавлено для визуализации кривой обучения\n",
    "    while stop_chek:\n",
    "        n_iter += 1\n",
    "        y_pred = W @ X.T\n",
    "        err = calc_mse(y, y_pred)\n",
    "        errors.append(err)\n",
    "        if min_err - err > tol:  # контролируем текущее значение ошибки\n",
    "            min_err = err\n",
    "        else:  # если снижение прекратилось, останавливаемся.\n",
    "            print(\n",
    "                f'Stop descent! iteration: {n_iter}, weights: {W}, mse: {min_err}')\n",
    "            stop_chek = False\n",
    "        W -= alpha * (1 / n * 2 * np.sum(X.T * (y_pred - y), axis=1))\n",
    "        if verbose:\n",
    "            if n_iter % 100 == 0:\n",
    "                print(n_iter, W, err)\n",
    "    return W, min_err, errors"
   ]
  },
  {
   "cell_type": "code",
   "execution_count": 18,
   "id": "8633f08a",
   "metadata": {},
   "outputs": [
    {
     "name": "stdout",
     "output_type": "stream",
     "text": [
      "Stop descent! iteration: 6807, weights: [17.01840938 54.47027145  4.75415743 63.30988856 93.39791918 71.04148579\n",
      " 86.9856912  10.23639497  3.51108992 70.81239031], mse: 14.301241439157128\n"
     ]
    }
   ],
   "source": [
    "W_1, mse_1, score_1 = my_grad_desc(X, y, alpha=0.001, tol=0.00001)"
   ]
  },
  {
   "cell_type": "code",
   "execution_count": 19,
   "id": "4a381434",
   "metadata": {},
   "outputs": [],
   "source": [
    "def my_sgd(X, y, alpha=1e-04, batch_size=1, n_epoch=1e+06, verbose=False, tol=0.0):\n",
    "    n = X.shape[0]\n",
    "    W = np.random.randn(X.shape[1], )  # задаём начальное значение весов\n",
    "    n_batch = n // batch_size  # определяем количество батчей\n",
    "    if n % batch_size != 0:\n",
    "        n_batch += 1\n",
    "    min_err = float('inf')  #начальное значение ошибки модели - бесконечность\n",
    "    n_iter = 0  # отслеживаем количество итераций\n",
    "    stop_chek = True  #будем чекать снижение ошибки\n",
    "    errors = []  # добавлено для визуализации кривой обучения\n",
    "    while stop_chek:\n",
    "        n_iter += 1\n",
    "        for b in range(n_batch):\n",
    "            start_ = batch_size * b\n",
    "            end_ = batch_size * (b + 1)\n",
    "            X_tmp = X.T[:, start_: end_]\n",
    "            y_tmp = y[start_: end_]\n",
    "            y_pred = W @ X_tmp\n",
    "            err = calc_mse(y_tmp, y_pred)\n",
    "            W -= alpha * (1 / n * 2 * (y_pred - y_tmp) @ X_tmp.T)\n",
    "        errors.append(err)\n",
    "        if verbose:\n",
    "            if n_iter % 1000 == 0:\n",
    "                print(n_iter, W, err)\n",
    "        if n_iter==n_epoch:                      # остановка по достижении n_epoch\n",
    "            print(\n",
    "                f'Stop descent! n_epoch: {n_iter}, weights: {W}, mse: {min_err}')\n",
    "            stop_chek = False\n",
    "        if np.abs(min_err - err) > tol:          # контролируем текущее значение ошибки\n",
    "            min_err = err if err<=min_err else min_err\n",
    "        else:                                    # остановка по достижении tol\n",
    "            print(\n",
    "                f'Stop descent! n_epoch: {n_iter}, weights: {W}, mse: {min_err}')\n",
    "            stop_chek = False\n",
    "        \n",
    "    return W, min_err, errors"
   ]
  },
  {
   "cell_type": "code",
   "execution_count": 20,
   "id": "d0e67617",
   "metadata": {},
   "outputs": [
    {
     "name": "stdout",
     "output_type": "stream",
     "text": [
      "Stop descent! n_epoch: 5511, weights: [17.03648751 54.52220489  4.68283841 63.30941965 93.3281835  71.13061547\n",
      " 86.88956996 10.12962938  3.54036507 70.69078056], mse: 10.996374680976254\n"
     ]
    }
   ],
   "source": [
    "W_2, mse_2, score_2 = my_sgd(X, y, alpha=0.001, batch_size=1, n_epoch=8000, tol=0.00001)"
   ]
  },
  {
   "cell_type": "code",
   "execution_count": 21,
   "id": "fa74df3b",
   "metadata": {},
   "outputs": [
    {
     "data": {
      "image/png": "[encoded data removed]",
      "text/plain": [
       "<Figure size 1152x720 with 1 Axes>"
      ]
     },
     "metadata": {
      "needs_background": "light"
     },
     "output_type": "display_data"
    }
   ],
   "source": [
    "plt.figure(figsize=(16, 10))\n",
    "plt.ylim((0,2000))\n",
    "plt.xlim((0,len(score_1)-1000))\n",
    "plt.plot([x for x in range(len(score_1))], score_1, label='GD-method')\n",
    "plt.plot([x for x in range(len(score_2))], score_2, c='r', label='SGD-method')\n",
    "plt.axhline(mse_default, c='gray', ls='--', label=r'calculated indicator $MSE$', mew=0.9)\n",
    "plt.xlabel('iteratoin number')\n",
    "plt.xticks(list(plt.xticks()[0])+[len(score_1), len(score_2)])\n",
    "plt.ylabel(r'$MSE$')\n",
    "plt.legend()\n",
    "plt.show()"
   ]
  },
  {
   "cell_type": "markdown",
   "id": "523da3fc",
   "metadata": {},
   "source": [
    "На основании графиков можно сделать вывод что примерно до 800-й итерации SVG  'расходился'(значение MSE росло), затем, до уроня 2300-2400 итераций оба алгоритма сходились, при этом скорость схождения GB была выше, чем у SVG . Однако затем скорости уравнялись, и SVG сошелся раньше чем GB (5538 итераций против 6746).\n",
    "\n"
   ]
  },
  {
   "cell_type": "markdown",
   "id": "6facd0ba",
   "metadata": {},
   "source": [
    "2. Модифицировать решение первого задания путем добавления 𝐿2 -регуляризации (в функцию, считающую MSE, нужно добавить норму вектора весов) и сравнить результаты."
   ]
  },
  {
   "cell_type": "code",
   "execution_count": 23,
   "id": "039b0637",
   "metadata": {},
   "outputs": [],
   "source": [
    "# L2 норма вектора\n",
    "def euclid(vec):\n",
    "    norm=0\n",
    "    for i in vec:\n",
    "        norm+=i**2\n",
    "    return norm**0.5"
   ]
  },
  {
   "cell_type": "markdown",
   "id": "4c06e5d7",
   "metadata": {},
   "source": [
    "Подкорректируем функции GB и SVG:"
   ]
  },
  {
   "cell_type": "code",
   "execution_count": 24,
   "id": "08326991",
   "metadata": {},
   "outputs": [],
   "source": [
    "def my_grad_desc_reg(X, y, alpha=1e-04, verbose=False, tol=0.0, lambda_=0.0):\n",
    "    n = X.shape[0]\n",
    "    W = np.random.randn(X.shape[1], )  # задаём начальное значение весов\n",
    "    min_err = float('inf')  #начальное значение ошибки модели - бесконечность\n",
    "    n_iter = 0  # отслеживаем количество итераций\n",
    "    stop_chek = True  #будем чекать снижение ошибки\n",
    "    errors = []  # добавлено для визуализации кривой обучения\n",
    "    while stop_chek:\n",
    "        n_iter += 1\n",
    "        y_pred = W @ X.T\n",
    "        err = calc_mse(y, y_pred)+lambda_*euclid(W) # добавляем в расчет ошибки фактор L2 регуляризации\n",
    "        errors.append(err)\n",
    "        if min_err - err > tol:  # контролируем текущее значение ошибки\n",
    "            min_err = err\n",
    "        else:  # если снижение прекратилось, останавливаемся.\n",
    "            print(\n",
    "                f'Stop descent! iteration: {n_iter}, weights: {W}, mse: {min_err}')\n",
    "            stop_chek = False\n",
    "        W -= alpha * (1 / n * 2 * np.sum(X.T * (y_pred - y), axis=1))+lambda_*W # добавим коэфф. лямбда для расчёта весов\n",
    "        if verbose:\n",
    "            if n_iter % 1000 == 0:\n",
    "                print(n_iter, W, err)\n",
    "    return W, min_err, errors"
   ]
  },
  {
   "cell_type": "code",
   "execution_count": 25,
   "id": "80ff12b7",
   "metadata": {},
   "outputs": [
    {
     "name": "stdout",
     "output_type": "stream",
     "text": [
      "Stop descent! iteration: 6788, weights: [17.01855865 54.46681952  4.75447984 63.30672423 93.39287023 71.03861222\n",
      " 86.98264324 10.23476298  3.51158314 70.80889499], mse: 14.301655981516593\n"
     ]
    }
   ],
   "source": [
    "W_3, mse_3, score_3 = my_grad_desc_reg(X, y, alpha=0.001, tol=0.00001, lambda_=0.0000001)"
   ]
  },
  {
   "cell_type": "code",
   "execution_count": 26,
   "id": "72b24a1d",
   "metadata": {},
   "outputs": [],
   "source": [
    "def my_sgd_reg(X, y, alpha=1e-04, batch_size=1, n_epoch=1e+06, verbose=False, tol=0.0, lambda_=0.0):\n",
    "    n = X.shape[0]\n",
    "    W = np.random.randn(X.shape[1], )  # задаём начальное значение весов\n",
    "    n_batch = n // batch_size  # определяем количество батчей\n",
    "    if n % batch_size != 0:\n",
    "        n_batch += 1\n",
    "    min_err = float('inf')  #начальное значение ошибки модели - бесконечность\n",
    "    n_iter = 0  # отслеживаем количество итераций\n",
    "    stop_chek = True  #будем чекать снижение ошибки\n",
    "    errors = []  # добавлено для визуализации кривой обучения\n",
    "    while stop_chek:\n",
    "        n_iter += 1\n",
    "        for b in range(n_batch):\n",
    "            start_ = batch_size * b\n",
    "            end_ = batch_size * (b + 1)\n",
    "            X_tmp = X.T[:, start_: end_]\n",
    "            y_tmp = y[start_: end_]\n",
    "            y_pred = W @ X_tmp\n",
    "            err = calc_mse(y_tmp, y_pred)+lambda_*euclid(W) # добавляем в расчет ошибки фактор L2 регуляризации\n",
    "            W -= alpha * (1 / n * 2 * (y_pred - y_tmp) @ X_tmp.T)+lambda_*W\n",
    "        errors.append(err)\n",
    "        if verbose:\n",
    "            if n_iter % 1000 == 0:\n",
    "                print(n_iter, W, err)\n",
    "        if n_iter==n_epoch:                      # остановка по достижении n_epoch\n",
    "            print(\n",
    "                f'Stop descent! n_epoch: {n_iter}, weights: {W}, mse: {min_err}')\n",
    "            stop_chek = False\n",
    "        if np.abs(min_err - err) > tol:          # контролируем текущее значение ошибки\n",
    "            min_err = err if err<=min_err else min_err\n",
    "        else:                                    # остановка по достижении tol\n",
    "            print(\n",
    "                f'Stop descent! n_epoch: {n_iter}, weights: {W}, mse: {min_err}')\n",
    "            stop_chek = False\n",
    "        \n",
    "    return W, min_err, errors"
   ]
  },
  {
   "cell_type": "code",
   "execution_count": 27,
   "id": "4826c204",
   "metadata": {},
   "outputs": [
    {
     "name": "stdout",
     "output_type": "stream",
     "text": [
      "Stop descent! n_epoch: 5511, weights: [17.0348638  54.27357791  4.6085284  63.01606332 92.74536485 70.95611912\n",
      " 86.44478743  9.82257028  3.61420455 70.21071322], mse: 14.563514911057519\n"
     ]
    }
   ],
   "source": [
    "W_4, mse_4, score_4 = my_sgd_reg(X, y, alpha=0.001, batch_size=1, n_epoch=8000, tol=0.00001, lambda_=0.0000001)"
   ]
  },
  {
   "cell_type": "code",
   "execution_count": 28,
   "id": "7e9cd079",
   "metadata": {},
   "outputs": [
    {
     "data": {
      "text/html": [
       "<div>\n",
       "<style scoped>\n",
       "    .dataframe tbody tr th:only-of-type {\n",
       "        vertical-align: middle;\n",
       "    }\n",
       "\n",
       "    .dataframe tbody tr th {\n",
       "        vertical-align: top;\n",
       "    }\n",
       "\n",
       "    .dataframe thead th {\n",
       "        text-align: right;\n",
       "    }\n",
       "</style>\n",
       "<table border=\"1\" class=\"dataframe\">\n",
       "  <thead>\n",
       "    <tr style=\"text-align: right;\">\n",
       "      <th></th>\n",
       "      <th>methods</th>\n",
       "      <th>$\\lambda$-coeff</th>\n",
       "      <th>tol-value</th>\n",
       "      <th>iterations</th>\n",
       "      <th>err-value</th>\n",
       "    </tr>\n",
       "  </thead>\n",
       "  <tbody>\n",
       "    <tr>\n",
       "      <th>0</th>\n",
       "      <td>GD</td>\n",
       "      <td>NaN</td>\n",
       "      <td>0.00001</td>\n",
       "      <td>6807</td>\n",
       "      <td>14.301231</td>\n",
       "    </tr>\n",
       "    <tr>\n",
       "      <th>1</th>\n",
       "      <td>SGD</td>\n",
       "      <td>NaN</td>\n",
       "      <td>0.00001</td>\n",
       "      <td>5511</td>\n",
       "      <td>10.996365</td>\n",
       "    </tr>\n",
       "    <tr>\n",
       "      <th>2</th>\n",
       "      <td>GD + L2</td>\n",
       "      <td>0.001</td>\n",
       "      <td>0.00001</td>\n",
       "      <td>6788</td>\n",
       "      <td>14.301646</td>\n",
       "    </tr>\n",
       "    <tr>\n",
       "      <th>3</th>\n",
       "      <td>SGD + L2</td>\n",
       "      <td>0.001</td>\n",
       "      <td>0.00001</td>\n",
       "      <td>5511</td>\n",
       "      <td>14.563505</td>\n",
       "    </tr>\n",
       "  </tbody>\n",
       "</table>\n",
       "</div>"
      ],
      "text/plain": [
       "    methods  $\\lambda$-coeff  tol-value  iterations  err-value\n",
       "0        GD              NaN    0.00001        6807  14.301231\n",
       "1       SGD              NaN    0.00001        5511  10.996365\n",
       "2   GD + L2            0.001    0.00001        6788  14.301646\n",
       "3  SGD + L2            0.001    0.00001        5511  14.563505"
      ]
     },
     "execution_count": 28,
     "metadata": {},
     "output_type": "execute_result"
    }
   ],
   "source": [
    "df=pd.DataFrame(\n",
    "    {\n",
    "        'methods':['GD', 'SGD','GD + L2','SGD + L2'],\n",
    "        r'$\\lambda$-coeff':[None,None,0.001,0.001],\n",
    "        'tol-value': 0.00001,\n",
    "        'iterations': [len(it) for it in [score_1, score_2, score_3,score_4]],\n",
    "        'err-value': [it[-1] for it in [score_1, score_2, score_3,score_4]]\n",
    "    }\n",
    ")\n",
    "df"
   ]
  },
  {
   "cell_type": "code",
   "execution_count": 29,
   "id": "0c306969",
   "metadata": {},
   "outputs": [
    {
     "data": {
      "text/html": [
       "<div>\n",
       "<style scoped>\n",
       "    .dataframe tbody tr th:only-of-type {\n",
       "        vertical-align: middle;\n",
       "    }\n",
       "\n",
       "    .dataframe tbody tr th {\n",
       "        vertical-align: top;\n",
       "    }\n",
       "\n",
       "    .dataframe thead th {\n",
       "        text-align: right;\n",
       "    }\n",
       "</style>\n",
       "<table border=\"1\" class=\"dataframe\">\n",
       "  <thead>\n",
       "    <tr style=\"text-align: right;\">\n",
       "      <th></th>\n",
       "      <th>GD</th>\n",
       "      <th>SGD</th>\n",
       "      <th>GD + L2</th>\n",
       "      <th>SGD + L2</th>\n",
       "    </tr>\n",
       "  </thead>\n",
       "  <tbody>\n",
       "    <tr>\n",
       "      <th>weigt0</th>\n",
       "      <td>17.018404</td>\n",
       "      <td>17.036488</td>\n",
       "      <td>17.018553</td>\n",
       "      <td>17.034864</td>\n",
       "    </tr>\n",
       "    <tr>\n",
       "      <th>weigt1</th>\n",
       "      <td>54.470248</td>\n",
       "      <td>54.522205</td>\n",
       "      <td>54.466797</td>\n",
       "      <td>54.273578</td>\n",
       "    </tr>\n",
       "    <tr>\n",
       "      <th>weigt2</th>\n",
       "      <td>4.754188</td>\n",
       "      <td>4.682838</td>\n",
       "      <td>4.754509</td>\n",
       "      <td>4.608528</td>\n",
       "    </tr>\n",
       "    <tr>\n",
       "      <th>weigt3</th>\n",
       "      <td>63.309888</td>\n",
       "      <td>63.309420</td>\n",
       "      <td>63.306724</td>\n",
       "      <td>63.016063</td>\n",
       "    </tr>\n",
       "    <tr>\n",
       "      <th>weigt4</th>\n",
       "      <td>93.397947</td>\n",
       "      <td>93.328184</td>\n",
       "      <td>93.392898</td>\n",
       "      <td>92.745365</td>\n",
       "    </tr>\n",
       "    <tr>\n",
       "      <th>weigt5</th>\n",
       "      <td>71.041448</td>\n",
       "      <td>71.130615</td>\n",
       "      <td>71.038576</td>\n",
       "      <td>70.956119</td>\n",
       "    </tr>\n",
       "    <tr>\n",
       "      <th>weigt6</th>\n",
       "      <td>86.985732</td>\n",
       "      <td>86.889570</td>\n",
       "      <td>86.982683</td>\n",
       "      <td>86.444787</td>\n",
       "    </tr>\n",
       "    <tr>\n",
       "      <th>weigt7</th>\n",
       "      <td>10.236439</td>\n",
       "      <td>10.129629</td>\n",
       "      <td>10.234806</td>\n",
       "      <td>9.822570</td>\n",
       "    </tr>\n",
       "    <tr>\n",
       "      <th>weigt8</th>\n",
       "      <td>3.511078</td>\n",
       "      <td>3.540365</td>\n",
       "      <td>3.511572</td>\n",
       "      <td>3.614205</td>\n",
       "    </tr>\n",
       "    <tr>\n",
       "      <th>weigt9</th>\n",
       "      <td>70.812440</td>\n",
       "      <td>70.690781</td>\n",
       "      <td>70.808944</td>\n",
       "      <td>70.210713</td>\n",
       "    </tr>\n",
       "  </tbody>\n",
       "</table>\n",
       "</div>"
      ],
      "text/plain": [
       "               GD        SGD    GD + L2   SGD + L2\n",
       "weigt0  17.018404  17.036488  17.018553  17.034864\n",
       "weigt1  54.470248  54.522205  54.466797  54.273578\n",
       "weigt2   4.754188   4.682838   4.754509   4.608528\n",
       "weigt3  63.309888  63.309420  63.306724  63.016063\n",
       "weigt4  93.397947  93.328184  93.392898  92.745365\n",
       "weigt5  71.041448  71.130615  71.038576  70.956119\n",
       "weigt6  86.985732  86.889570  86.982683  86.444787\n",
       "weigt7  10.236439  10.129629  10.234806   9.822570\n",
       "weigt8   3.511078   3.540365   3.511572   3.614205\n",
       "weigt9  70.812440  70.690781  70.808944  70.210713"
      ]
     },
     "execution_count": 29,
     "metadata": {},
     "output_type": "execute_result"
    }
   ],
   "source": [
    "df2=pd.DataFrame({'GD':W_1, 'SGD':W_2,'GD + L2':W_3,'SGD + L2':W_4}, index=['weigt'+str(i) for i in range(10)])\n",
    "df2"
   ]
  },
  {
   "cell_type": "markdown",
   "id": "86d2fd57",
   "metadata": {},
   "source": [
    "Модернизировать решение задания 2, заменив L2 регуляризацию на L1 регуляризацию."
   ]
  },
  {
   "cell_type": "code",
   "execution_count": 30,
   "id": "7a139d2d",
   "metadata": {},
   "outputs": [],
   "source": [
    "# L1 норма вектора\n",
    "def manhattan(vec):\n",
    "    norm=0\n",
    "    for i in vec:\n",
    "        norm+=i if i>0 else -i\n",
    "    return norm    "
   ]
  },
  {
   "cell_type": "code",
   "execution_count": 31,
   "id": "01673272",
   "metadata": {},
   "outputs": [],
   "source": [
    "def grad_desc_reg(X, y, alpha=1e-04, verbose=False, tol=0.0, lambda_=0.0, regularization=None):\n",
    "    n = X.shape[0]\n",
    "    W = np.random.randn(X.shape[1], )  # задаём начальное значение весов\n",
    "    min_err = float('inf')  #начальное значение ошибки модели - бесконечность\n",
    "    n_iter = 0  # отслеживаем количество итераций\n",
    "    stop_chek = True  #будем чекать снижение ошибки\n",
    "    errors = []  # добавлено для визуализации кривой обучения\n",
    "    if regularization=='L1': # учитываем тип регуляризации L1\n",
    "        reg_elem=manhattan\n",
    "    elif regularization=='L2': # учитываем тип регуляризации L2\n",
    "        reg_elem=euclid\n",
    "    else:\n",
    "        reg_elem=lambda x: 0 # учитываем отсутствие регуляризации\n",
    "    while stop_chek:\n",
    "        n_iter += 1\n",
    "        y_pred = W @ X.T\n",
    "        err = calc_mse(y, y_pred)+lambda_*reg_elem(W) # добавляем в расчет ошибки выбранный фактор регуляризации\n",
    "        errors.append(err)\n",
    "        if min_err - err > tol:  # контролируем текущее значение ошибки\n",
    "            min_err = err\n",
    "        else:  # если снижение прекратилось, останавливаемся.\n",
    "            print(\n",
    "                f'Stop descent! iteration: {n_iter}, weights: {W}, mse: {min_err}')\n",
    "            stop_chek = False\n",
    "        W -= alpha * (1 / n * 2 * np.sum(X.T * (y_pred - y), axis=1))+lambda_*W\n",
    "        if verbose:\n",
    "            if n_iter % 1000 == 0:\n",
    "                print(n_iter, W, err)\n",
    "    return W, min_err, errors"
   ]
  },
  {
   "cell_type": "code",
   "execution_count": 32,
   "id": "9a398277",
   "metadata": {},
   "outputs": [
    {
     "name": "stdout",
     "output_type": "stream",
     "text": [
      "Stop descent! iteration: 8610, weights: [17.01345252 54.20397569  4.70221051 63.01573632 92.83507554 70.83985048\n",
      " 86.57075164  9.96140995  3.57681473 70.36791679], mse: 15.185899736863377\n"
     ]
    }
   ],
   "source": [
    "W_5, mse_5, score_5 = grad_desc_reg(X, y, alpha=0.001, tol=0.00001, lambda_=0.00001, regularization='L1')"
   ]
  },
  {
   "cell_type": "code",
   "execution_count": 33,
   "id": "5b7e116f",
   "metadata": {},
   "outputs": [],
   "source": [
    "def sgd_reg(X, y, alpha=1e-04, batch_size=1, n_epoch=1e+06, verbose=False, tol=0.0, lambda_=0.0, regularization=None):\n",
    "    n = X.shape[0]\n",
    "    W = np.random.randn(X.shape[1], )  # задаём начальное значение весов\n",
    "    n_batch = n // batch_size  # определяем количество батчей\n",
    "    if n % batch_size != 0:\n",
    "        n_batch += 1\n",
    "    min_err = float('inf')  #начальное значение ошибки модели - бесконечность\n",
    "    n_iter = 0  # отслеживаем количество итераций\n",
    "    stop_chek = True  #будем чекать снижение ошибки\n",
    "    errors = []  # добавлено для визуализации кривой обучения\n",
    "    if regularization=='L1': # учитываем тип регуляризации\n",
    "        reg_elem=manhattan\n",
    "    elif regularization=='L2':\n",
    "        reg_elem=euclid\n",
    "    else:\n",
    "        reg_elem=lambda x: 0\n",
    "    while stop_chek:\n",
    "        n_iter += 1\n",
    "        for b in range(n_batch):\n",
    "            start_ = batch_size * b\n",
    "            end_ = batch_size * (b + 1)\n",
    "            X_tmp = X.T[:, start_: end_]\n",
    "            y_tmp = y[start_: end_]\n",
    "            y_pred = W @ X_tmp\n",
    "            err = calc_mse(y_tmp, y_pred)+lambda_*reg_elem(W)  # добавляем в расчет ошибки выбранный фактор регуляризации\n",
    "            W -= alpha * (1 / n * 2 * (y_pred - y_tmp) @ X_tmp.T)+lambda_*W\n",
    "        errors.append(err)\n",
    "        if verbose:\n",
    "            if n_iter % 1000 == 0:\n",
    "                print(n_iter, W, err)\n",
    "        if n_iter==n_epoch:                      # остановка по достижении n_epoch\n",
    "            min_err=err\n",
    "            print(\n",
    "                f'Stop descent! n_epoch: {n_iter}, weights: {W}, mse: {min_err}')\n",
    "            stop_chek = False\n",
    "            break\n",
    "        if np.abs(min_err - err) > tol:          # контролируем текущее значение ошибки\n",
    "            min_err = err if err<=min_err else min_err\n",
    "        else:                                    # остановка по достижении tol\n",
    "            print(\n",
    "                f'Stop descent! n_epoch: {n_iter}, weights: {W}, mse: {min_err}')\n",
    "            stop_chek = False\n",
    "        \n",
    "    return W, min_err, errors"
   ]
  },
  {
   "cell_type": "code",
   "execution_count": 34,
   "id": "911d4a87",
   "metadata": {},
   "outputs": [
    {
     "name": "stdout",
     "output_type": "stream",
     "text": [
      "Stop descent! n_epoch: 5550, weights: [17.03380917 54.26879458  4.6152433  63.01586912 92.75148826 70.94826435\n",
      " 86.45347569  9.83218401  3.6118044  70.22115117], mse: 14.570058383615798\n"
     ]
    }
   ],
   "source": [
    "W_6, mse_6, score_6 = sgd_reg(X, y, alpha=0.001, batch_size=1, n_epoch=8000, tol=0.00001, lambda_=0.0000001, regularization='L1')"
   ]
  },
  {
   "cell_type": "code",
   "execution_count": 35,
   "id": "c00177e6",
   "metadata": {},
   "outputs": [
    {
     "data": {
      "text/html": [
       "<div>\n",
       "<style scoped>\n",
       "    .dataframe tbody tr th:only-of-type {\n",
       "        vertical-align: middle;\n",
       "    }\n",
       "\n",
       "    .dataframe tbody tr th {\n",
       "        vertical-align: top;\n",
       "    }\n",
       "\n",
       "    .dataframe thead th {\n",
       "        text-align: right;\n",
       "    }\n",
       "</style>\n",
       "<table border=\"1\" class=\"dataframe\">\n",
       "  <thead>\n",
       "    <tr style=\"text-align: right;\">\n",
       "      <th></th>\n",
       "      <th>methods</th>\n",
       "      <th>$\\lambda$-coeff</th>\n",
       "      <th>tol-value</th>\n",
       "      <th>iterations</th>\n",
       "      <th>err-value</th>\n",
       "    </tr>\n",
       "  </thead>\n",
       "  <tbody>\n",
       "    <tr>\n",
       "      <th>0</th>\n",
       "      <td>GD</td>\n",
       "      <td>NaN</td>\n",
       "      <td>0.00001</td>\n",
       "      <td>6807</td>\n",
       "      <td>14.301231</td>\n",
       "    </tr>\n",
       "    <tr>\n",
       "      <th>1</th>\n",
       "      <td>SGD</td>\n",
       "      <td>NaN</td>\n",
       "      <td>0.00001</td>\n",
       "      <td>5511</td>\n",
       "      <td>10.996365</td>\n",
       "    </tr>\n",
       "    <tr>\n",
       "      <th>2</th>\n",
       "      <td>GD + L2</td>\n",
       "      <td>0.001</td>\n",
       "      <td>0.00001</td>\n",
       "      <td>6788</td>\n",
       "      <td>14.301646</td>\n",
       "    </tr>\n",
       "    <tr>\n",
       "      <th>3</th>\n",
       "      <td>SGD + L2</td>\n",
       "      <td>0.001</td>\n",
       "      <td>0.00001</td>\n",
       "      <td>5511</td>\n",
       "      <td>14.563505</td>\n",
       "    </tr>\n",
       "    <tr>\n",
       "      <th>4</th>\n",
       "      <td>GD + L1</td>\n",
       "      <td>0.001</td>\n",
       "      <td>0.00001</td>\n",
       "      <td>8610</td>\n",
       "      <td>15.185890</td>\n",
       "    </tr>\n",
       "    <tr>\n",
       "      <th>5</th>\n",
       "      <td>SGD + L1</td>\n",
       "      <td>0.001</td>\n",
       "      <td>0.00001</td>\n",
       "      <td>5550</td>\n",
       "      <td>14.570049</td>\n",
       "    </tr>\n",
       "  </tbody>\n",
       "</table>\n",
       "</div>"
      ],
      "text/plain": [
       "    methods  $\\lambda$-coeff  tol-value  iterations  err-value\n",
       "0        GD              NaN    0.00001        6807  14.301231\n",
       "1       SGD              NaN    0.00001        5511  10.996365\n",
       "2   GD + L2            0.001    0.00001        6788  14.301646\n",
       "3  SGD + L2            0.001    0.00001        5511  14.563505\n",
       "4   GD + L1            0.001    0.00001        8610  15.185890\n",
       "5  SGD + L1            0.001    0.00001        5550  14.570049"
      ]
     },
     "execution_count": 35,
     "metadata": {},
     "output_type": "execute_result"
    }
   ],
   "source": [
    "df=df.append(\n",
    "    pd.DataFrame(\n",
    "        {\n",
    "            'methods':['GD + L1','SGD + L1'],\n",
    "            r'$\\lambda$-coeff':[0.001,0.001],\n",
    "            'tol-value': 0.00001,\n",
    "            'iterations': [len(it) for it in [score_5, score_6]],\n",
    "            'err-value': [it[-1] for it in [score_5, score_6]]\n",
    "        }\n",
    "    ), ignore_index=True\n",
    ")\n",
    "df"
   ]
  },
  {
   "cell_type": "code",
   "execution_count": null,
   "id": "a0d325df",
   "metadata": {},
   "outputs": [],
   "source": []
  }
 ],
 "metadata": {
  "kernelspec": {
   "display_name": "Python 3",
   "language": "python",
   "name": "python3"
  },
  "language_info": {
   "codemirror_mode": {
    "name": "ipython",
    "version": 3
   },
   "file_extension": ".py",
   "mimetype": "text/x-python",
   "name": "python",
   "nbconvert_exporter": "python",
   "pygments_lexer": "ipython3",
   "version": "3.8.8"
  }
 },
 "nbformat": 4,
 "nbformat_minor": 5
}
